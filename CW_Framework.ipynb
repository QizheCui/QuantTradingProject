{
 "cells": [
  {
   "cell_type": "code",
   "execution_count": 1,
   "metadata": {},
   "outputs": [],
   "source": [
    "import numpy as np\n",
    "import pandas as pd\n",
    "import statsmodels.api as sm\n",
    "import seaborn as sns\n",
    "import pickle\n",
    "\n",
    "import matplotlib.pyplot as plt\n",
    "plt.style.use(\"ggplot\")\n",
    "plt.style.use(\"dark_background\")\n",
    "%config InlineBackend.figure_format='retina'\n",
    "\n",
    "import QuantTrading.ImpactFitting as IF\n",
    "\n"
   ]
  },
  {
   "cell_type": "markdown",
   "metadata": {},
   "source": [
    "## Data Acquisition\n",
    "Data initilialised in this section are all for all dates, all stocks"
   ]
  },
  {
   "cell_type": "code",
   "execution_count": 2,
   "metadata": {},
   "outputs": [],
   "source": [
    "def load_from_pickle(filename):\n",
    "    path = '../pkl_dump/'\n",
    "    with open(path + filename, 'rb') as f:\n",
    "        return pickle.load(f)\n",
    "\n",
    "# Load data\n",
    "traded_volume_df = load_from_pickle('traded_volume_df.pkl')\n",
    "px_df = load_from_pickle('px_df.pkl')\n",
    "daily_stock_info_df = load_from_pickle('daily_stock_info_df.pkl')\n",
    "monthly_scaling_factor = load_from_pickle('monthly_scaling_factor.pkl')\n",
    "stocks = traded_volume_df.reset_index()[\"stock\"].unique()"
   ]
  },
  {
   "cell_type": "markdown",
   "metadata": {},
   "source": [
    "## Price Impact (Unfinished)"
   ]
  },
  {
   "cell_type": "markdown",
   "metadata": {},
   "source": [
    "There are several impact model to choose from: 1) naive OW 2) reduced form 3) AFS."
   ]
  },
  {
   "cell_type": "code",
   "execution_count": 4,
   "metadata": {},
   "outputs": [
    {
     "name": "stderr",
     "output_type": "stream",
     "text": [
      "/Users/kelvinwu/Library/CloudStorage/OneDrive-ImperialCollegeLondon/Year 4 MSc Maths and Finance/Quant Trading and Price Impact/QuantTradingProject/QuantTrading/ImpactFitting.py:28: FutureWarning: Support for axis=1 in DataFrame.ewm is deprecated and will be removed in a future version. Use obj.T.ewm(...) instead\n",
      "  cum_impact = pre_ewm.ewm(alpha=1-decay_factor, adjust=False, axis=\"columns\").mean()  # Across columns\n",
      "/Users/kelvinwu/Library/CloudStorage/OneDrive-ImperialCollegeLondon/Year 4 MSc Maths and Finance/Quant Trading and Price Impact/QuantTradingProject/QuantTrading/ImpactFitting.py:28: FutureWarning: Support for axis=1 in DataFrame.ewm is deprecated and will be removed in a future version. Use obj.T.ewm(...) instead\n",
      "  cum_impact = pre_ewm.ewm(alpha=1-decay_factor, adjust=False, axis=\"columns\").mean()  # Across columns\n",
      "/Users/kelvinwu/Library/CloudStorage/OneDrive-ImperialCollegeLondon/Year 4 MSc Maths and Finance/Quant Trading and Price Impact/QuantTradingProject/QuantTrading/ImpactFitting.py:28: FutureWarning: Support for axis=1 in DataFrame.ewm is deprecated and will be removed in a future version. Use obj.T.ewm(...) instead\n",
      "  cum_impact = pre_ewm.ewm(alpha=1-decay_factor, adjust=False, axis=\"columns\").mean()  # Across columns\n",
      "/Users/kelvinwu/Library/CloudStorage/OneDrive-ImperialCollegeLondon/Year 4 MSc Maths and Finance/Quant Trading and Price Impact/QuantTradingProject/QuantTrading/ImpactFitting.py:28: FutureWarning: Support for axis=1 in DataFrame.ewm is deprecated and will be removed in a future version. Use obj.T.ewm(...) instead\n",
      "  cum_impact = pre_ewm.ewm(alpha=1-decay_factor, adjust=False, axis=\"columns\").mean()  # Across columns\n"
     ]
    },
    {
     "name": "stdout",
     "output_type": "stream",
     "text": [
      "Time taken:  1120.4359543323517\n"
     ]
    }
   ],
   "source": [
    "# time the code\n",
    "import time\n",
    "start = time.time()\n",
    "\n",
    "half_life_list = [900, 1800, 3600, 7200]\n",
    "rsq_data = np.zeros((len(stocks), len(half_life_list)))\n",
    "\n",
    "for i in range(len(half_life_list)):\n",
    "    model_type = \"linear\"\n",
    "    impact_px_df = IF.get_impact_state(traded_volume_df, monthly_scaling_factor, \n",
    "                                    half_life_list[i], model_type)\n",
    "    monthly_rsq = []\n",
    "    for month in range(2, 12):\n",
    "        reg_summary = IF.get_regression_results(impact_px_df, px_df, \n",
    "                                                in_sample_month=2, explanation_horizon_periods=6)\n",
    "        rsq_data[:, i] += reg_summary[[\"is_rsq\"]].values.flatten() / 10\n",
    "\n",
    "rsq_table = pd.DataFrame(rsq_data, index=stocks, columns=half_life_list)\n",
    "\n",
    "end = time.time()\n",
    "print(\"Time taken: \", end - start)"
   ]
  },
  {
   "cell_type": "code",
   "execution_count": 6,
   "metadata": {},
   "outputs": [
    {
     "data": {
      "text/plain": [
       "A        (1800, 0.05197246407805112)\n",
       "AAL       (900, 0.08817299705311223)\n",
       "AAP      (7200, 0.06874959604409892)\n",
       "AAPL      (900, 0.13288244162703922)\n",
       "ABBV     (1800, 0.07143555913349564)\n",
       "ABC      (7200, 0.09752909263550626)\n",
       "ABMD      (900, 0.07789431898994516)\n",
       "ABT      (7200, 0.06633889358603762)\n",
       "ACN      (3600, 0.04461016613730773)\n",
       "ADBE     (1800, 0.04751666294577649)\n",
       "ADI       (900, 0.04403971778412785)\n",
       "ADM      (3600, 0.11165000814871719)\n",
       "ADP      (900, 0.051869066503048684)\n",
       "ADS      (7200, 0.06573949854930261)\n",
       "ADSK     (7200, 0.07257164385707214)\n",
       "AEE       (7200, 0.0359128652383136)\n",
       "AEP      (1800, 0.03879433081569905)\n",
       "AES      (7200, 0.04475744683597171)\n",
       "AFL      (1800, 0.07839581904491953)\n",
       "AGN       (900, 0.08077590650931665)\n",
       "AIG      (1800, 0.09530727116484371)\n",
       "AIV      (3600, 0.04327187180043712)\n",
       "AIZ      (7200, 0.06116892372408243)\n",
       "AJG      (7200, 0.06093239486357106)\n",
       "AKAM     (1800, 0.06958354003794588)\n",
       "ALB      (900, 0.057403988799959664)\n",
       "ALGN    (7200, 0.027389056364180986)\n",
       "ALK      (1800, 0.07227386798091706)\n",
       "ALL      (7200, 0.05142333650319263)\n",
       "ALLE      (900, 0.03166179409149594)\n",
       "ALXN    (1800, 0.051195541653280115)\n",
       "AMAT    (7200, 0.059391042302918355)\n",
       "AMD       (900, 0.10863071981645409)\n",
       "AME      (7200, 0.07177182874397581)\n",
       "AMG      (1800, 0.05089880144188208)\n",
       "AMGN     (900, 0.042088765330740574)\n",
       "AMP      (7200, 0.04233719399798885)\n",
       "AMT      (7200, 0.05002047702076696)\n",
       "AMZN      (900, 0.13330426831345388)\n",
       "ANET      (900, 0.04402253708431746)\n",
       "ANSS     (7200, 0.05557775292517873)\n",
       "ANTM    (7200, 0.020374749973311564)\n",
       "AON       (900, 0.07895331158205232)\n",
       "AOS      (1800, 0.05214529101438313)\n",
       "APA     (3600, 0.043756222387145716)\n",
       "APC      (7200, 0.07815779078433592)\n",
       "APD      (900, 0.037386617217925806)\n",
       "APH     (7200, 0.033471946637115065)\n",
       "APTV     (1800, 0.06511007284327741)\n",
       "ARE      (1800, 0.05237951302344544)\n",
       "dtype: object"
      ]
     },
     "execution_count": 6,
     "metadata": {},
     "output_type": "execute_result"
    }
   ],
   "source": [
    "rsq_best = rsq_table.apply(lambda x: (x.idxmax(), x.max()), axis=1)\n",
    "rsq_best"
   ]
  },
  {
   "cell_type": "markdown",
   "metadata": {},
   "source": [
    "## Synthetic Alpha (Done)"
   ]
  },
  {
   "cell_type": "code",
   "execution_count": 123,
   "metadata": {},
   "outputs": [],
   "source": [
    "def synthetic_alpha_coef(corr, px_df_stock, ret_stock, alpha_horizon=6):\n",
    "    ret_var = ret_stock.values.var()\n",
    "    px_minus2 = (px_df_stock ** -2).values.mean()\n",
    "    \n",
    "    x = corr ** 2\n",
    "    y = corr * np.sqrt(1 - corr ** 2) * np.sqrt(ret_var / alpha_horizon / px_minus2)\n",
    "    return x, y\n",
    "\n",
    "def diagnosis(returns_df):\n",
    "    correlation = returns_df.corr().iloc[0,1]\n",
    "    actual_variance = returns_df[\"actual\"].var()\n",
    "    synthetic_variance = returns_df[\"synthetic\"].var()\n",
    "    \n",
    "    return correlation, actual_variance, synthetic_variance\n",
    "\n",
    "def synthetic_alpha(corr, px_df, stock, alpha_horizon):\n",
    "    px_df = px_df.loc[stock]\n",
    "    ret = px_df.pct_change(alpha_horizon, axis=\"columns\").dropna(axis=1)\n",
    "    \n",
    "    x, y = synthetic_alpha_coef(corr, px_df, ret, alpha_horizon)\n",
    "\n",
    "    np.random.seed(42)\n",
    "    \n",
    "    returns = px_df.T.pct_change(alpha_horizon, axis=0).iloc[alpha_horizon:]\n",
    "    returns.index.name = \"time\"\n",
    "\n",
    "    px_changes = px_df.T.diff(alpha_horizon, axis=0).iloc[alpha_horizon:]\n",
    "    W_diffs = np.random.normal(loc=0, scale=1.0, size=(px_df.shape[0], px_df.shape[1]-1))\n",
    "    Ws = np.concatenate((np.zeros((W_diffs.shape[0], 1)), W_diffs.cumsum(axis=1)), axis=1).T\n",
    "    W_h_diffs = Ws[alpha_horizon::] - Ws[:-alpha_horizon]\n",
    "    px_changes = px_changes * x + W_h_diffs * y\n",
    "    synthetic_returns = px_changes / (px_df.T.shift(1, axis=0))\n",
    "    synthetic_returns.index.name = \"time\"\n",
    "\n",
    "    returns_df = pd.DataFrame({\n",
    "        \"actual\": returns.unstack(),\n",
    "        \"synthetic\": synthetic_returns.unstack(),\n",
    "    })\n",
    "    \n",
    "    print(diagnosis(returns_df))\n",
    "\n",
    "    return returns_df"
   ]
  },
  {
   "cell_type": "code",
   "execution_count": 124,
   "metadata": {},
   "outputs": [],
   "source": [
    "def get_synthetic_alpha(corr, px_df, stock, alpha_horizon=6, smooth=True):\n",
    "    returns_df = synthetic_alpha(corr, px_df, stock, alpha_horizon)\n",
    "    synthetic_alpha_diffs = returns_df.drop(\"actual\", axis=\"columns\").unstack(\"time\")[\"synthetic\"]\n",
    "    \n",
    "    synthetic_alphas = synthetic_alpha_diffs.iloc[:, ::-1].cumsum(axis=\"columns\").iloc[:, ::-1].shift(-1, axis=\"columns\").fillna(0)\n",
    "    \n",
    "    if smooth:\n",
    "        return synthetic_alphas.ewm(halflife=200, axis=\"columns\").mean()\n",
    "    else:\n",
    "        return synthetic_alphas"
   ]
  },
  {
   "cell_type": "markdown",
   "metadata": {},
   "source": [
    "## Optimal Trading Strategy (Not started, should be very short)"
   ]
  },
  {
   "cell_type": "markdown",
   "metadata": {},
   "source": [
    "## Backtesting (Barely Started)"
   ]
  },
  {
   "cell_type": "markdown",
   "metadata": {},
   "source": [
    "In future versions use `cum_impacts` as input"
   ]
  },
  {
   "cell_type": "code",
   "execution_count": 168,
   "metadata": {},
   "outputs": [],
   "source": [
    "def impact_adjusted_prices(pre_ewm, px_df, scaling_df, half_life, impact_coef_df, model_type):\n",
    "    cum_impacts = impact_state(pre_ewm, scaling_df, half_life, model_type).T\n",
    "    cum_returns = px_df.T / px_df.T.iloc[0, :] - 1\n",
    "    stock_date_df = cum_returns.T.iloc[:, 0].reset_index()\n",
    "    # stock_date_df[\"month\"] = pd.to_datetime(stock_date_df[\"date\"]).dt.month\n",
    "    stock_date_df.drop([\"date\"], axis=\"columns\", inplace=True)\n",
    "    impact_coefficients = pd.merge(stock_date_df, impact_coef_df, on=[\"stock\"], how=\"left\")[\"beta_estimate\"].values\n",
    "    cum_returns -= cum_impacts * impact_coefficients\n",
    "    adjusted_px_df = (px_df.T.iloc[0, :] * (cum_returns + 1)).T.reset_index()\n",
    "    return adjusted_px_df\n"
   ]
  },
  {
   "cell_type": "markdown",
   "metadata": {},
   "source": [
    "## Performance Analysis (Need plots!)"
   ]
  },
  {
   "cell_type": "code",
   "execution_count": null,
   "metadata": {},
   "outputs": [],
   "source": []
  },
  {
   "cell_type": "code",
   "execution_count": null,
   "metadata": {},
   "outputs": [],
   "source": []
  }
 ],
 "metadata": {
  "kernelspec": {
   "display_name": "mf_coding",
   "language": "python",
   "name": "python3"
  },
  "language_info": {
   "codemirror_mode": {
    "name": "ipython",
    "version": 3
   },
   "file_extension": ".py",
   "mimetype": "text/x-python",
   "name": "python",
   "nbconvert_exporter": "python",
   "pygments_lexer": "ipython3",
   "version": "3.12.0"
  }
 },
 "nbformat": 4,
 "nbformat_minor": 2
}
