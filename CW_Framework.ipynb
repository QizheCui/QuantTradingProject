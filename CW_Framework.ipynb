{
 "cells": [
  {
   "cell_type": "code",
   "execution_count": 1,
   "metadata": {},
   "outputs": [],
   "source": [
    "import numpy as np\n",
    "import pandas as pd\n",
    "import statsmodels.api as sm\n",
    "import seaborn as sns\n",
    "import pickle\n",
    "\n",
    "import matplotlib.pyplot as plt\n",
    "plt.style.use(\"ggplot\")\n",
    "%config InlineBackend.figure_format='retina'\n",
    "\n",
    "import QuantTrading.ImpactFitting as IF\n",
    "\n"
   ]
  },
  {
   "cell_type": "markdown",
   "metadata": {},
   "source": [
    "## Data Acquisition\n",
    "Data initilialised in this section are all for all dates, all stocks"
   ]
  },
  {
   "cell_type": "code",
   "execution_count": 2,
   "metadata": {},
   "outputs": [],
   "source": [
    "def load_from_pickle(filename):\n",
    "    path = '../pkl_dump/'\n",
    "    with open(path + filename, 'rb') as f:\n",
    "        return pickle.load(f)\n",
    "\n",
    "# Load data\n",
    "traded_volume_df = load_from_pickle('traded_volume_df.pkl')\n",
    "px_df = load_from_pickle('px_df.pkl')\n",
    "daily_stock_info_df = load_from_pickle('daily_stock_info_df.pkl')\n",
    "monthly_scaling_factor = load_from_pickle('monthly_scaling_factor.pkl')\n",
    "stocks = traded_volume_df.reset_index()[\"stock\"].unique()"
   ]
  },
  {
   "cell_type": "markdown",
   "metadata": {},
   "source": [
    "## Price Impact"
   ]
  },
  {
   "cell_type": "markdown",
   "metadata": {},
   "source": [
    "There are several impact model to choose from: 1) naive OW 2) AFS 3) Ridge-style OW."
   ]
  },
  {
   "cell_type": "markdown",
   "metadata": {},
   "source": [
    "**DODGY!!!** R2 is maxed at a max half-life!! Bug or Why?"
   ]
  },
  {
   "cell_type": "markdown",
   "metadata": {},
   "source": [
    "### 1) OW - `model_type = \"linear\"`"
   ]
  },
  {
   "cell_type": "code",
   "execution_count": 3,
   "metadata": {},
   "outputs": [
    {
     "name": "stderr",
     "output_type": "stream",
     "text": [
      "/Users/kelvinwu/Library/CloudStorage/OneDrive-ImperialCollegeLondon/Year 4 MSc Maths and Finance/Quant Trading and Price Impact/QuantTradingProject/QuantTrading/ImpactFitting.py:29: FutureWarning: Support for axis=1 in DataFrame.ewm is deprecated and will be removed in a future version. Use obj.T.ewm(...) instead\n",
      "  cum_impact = pre_ewm.ewm(alpha=1-decay_factor, adjust=False, axis=\"columns\").mean()  # Across columns\n"
     ]
    }
   ],
   "source": [
    "in_sample_month = 5\n",
    "# half_life_list = np.arange(10800, 14401, 1800)\n",
    "half_life_list = np.array([3600])\n",
    "rsq_data = np.zeros((len(stocks), len(half_life_list)))\n",
    "\n",
    "reg_summary_list = []\n",
    "for i in range(len(half_life_list)):\n",
    "    model_type = \"linear\"\n",
    "    impact_px_df = IF.get_impact_state(traded_volume_df, monthly_scaling_factor, \n",
    "                                    half_life_list[i], model_type)\n",
    "    reg_summary_temp = IF.get_regression_results(impact_px_df, px_df, \n",
    "                                            in_sample_month, explanation_horizon_periods=6)\n",
    "    reg_summary_temp[\"half_life\"] = half_life_list[i]\n",
    "    \n",
    "    reg_summary_list.append(reg_summary_temp[[\"beta_estimate\", \"alpha_estimate\", \"is_rsq\", \"oos_rsq\", \"half_life\"]])\n",
    "\n",
    "rsq_table = pd.concat(reg_summary_list).reset_index()"
   ]
  },
  {
   "cell_type": "code",
   "execution_count": 22,
   "metadata": {},
   "outputs": [],
   "source": [
    "ow_summary = rsq_table.groupby(\"stock\").max(\"is_rsq\")"
   ]
  },
  {
   "cell_type": "markdown",
   "metadata": {},
   "source": [
    "### 2) AFS - `model_type = \"sqrt\"`"
   ]
  },
  {
   "cell_type": "code",
   "execution_count": 82,
   "metadata": {},
   "outputs": [
    {
     "name": "stderr",
     "output_type": "stream",
     "text": [
      "/Users/kelvinwu/Library/CloudStorage/OneDrive-ImperialCollegeLondon/Year 4 MSc Maths and Finance/Quant Trading and Price Impact/QuantTradingProject/QuantTrading/ImpactFitting.py:28: FutureWarning: Support for axis=1 in DataFrame.ewm is deprecated and will be removed in a future version. Use obj.T.ewm(...) instead\n",
      "  cum_impact = pre_ewm.ewm(alpha=1-decay_factor, adjust=False, axis=\"columns\").mean()  # Across columns\n",
      "/Users/kelvinwu/Library/CloudStorage/OneDrive-ImperialCollegeLondon/Year 4 MSc Maths and Finance/Quant Trading and Price Impact/QuantTradingProject/QuantTrading/ImpactFitting.py:28: FutureWarning: Support for axis=1 in DataFrame.ewm is deprecated and will be removed in a future version. Use obj.T.ewm(...) instead\n",
      "  cum_impact = pre_ewm.ewm(alpha=1-decay_factor, adjust=False, axis=\"columns\").mean()  # Across columns\n",
      "/Users/kelvinwu/Library/CloudStorage/OneDrive-ImperialCollegeLondon/Year 4 MSc Maths and Finance/Quant Trading and Price Impact/QuantTradingProject/QuantTrading/ImpactFitting.py:28: FutureWarning: Support for axis=1 in DataFrame.ewm is deprecated and will be removed in a future version. Use obj.T.ewm(...) instead\n",
      "  cum_impact = pre_ewm.ewm(alpha=1-decay_factor, adjust=False, axis=\"columns\").mean()  # Across columns\n",
      "/Users/kelvinwu/Library/CloudStorage/OneDrive-ImperialCollegeLondon/Year 4 MSc Maths and Finance/Quant Trading and Price Impact/QuantTradingProject/QuantTrading/ImpactFitting.py:28: FutureWarning: Support for axis=1 in DataFrame.ewm is deprecated and will be removed in a future version. Use obj.T.ewm(...) instead\n",
      "  cum_impact = pre_ewm.ewm(alpha=1-decay_factor, adjust=False, axis=\"columns\").mean()  # Across columns\n",
      "/Users/kelvinwu/Library/CloudStorage/OneDrive-ImperialCollegeLondon/Year 4 MSc Maths and Finance/Quant Trading and Price Impact/QuantTradingProject/QuantTrading/ImpactFitting.py:28: FutureWarning: Support for axis=1 in DataFrame.ewm is deprecated and will be removed in a future version. Use obj.T.ewm(...) instead\n",
      "  cum_impact = pre_ewm.ewm(alpha=1-decay_factor, adjust=False, axis=\"columns\").mean()  # Across columns\n"
     ]
    }
   ],
   "source": [
    "in_sample_month = 3\n",
    "# half_life_list = np.arange(10800, 14401, 1800)\n",
    "half_life_list = [900, 1800, 3600, 7200, 14400]\n",
    "rsq_data = np.zeros((len(stocks), len(half_life_list)))\n",
    "\n",
    "reg_summary_list = []\n",
    "for i in range(len(half_life_list)):\n",
    "    model_type = \"sqrt\"\n",
    "    impact_px_df = IF.get_impact_state(traded_volume_df, monthly_scaling_factor, \n",
    "                                    half_life_list[i], model_type)\n",
    "    reg_summary_temp = IF.get_regression_results(impact_px_df, px_df, \n",
    "                                            in_sample_month, explanation_horizon_periods=6)\n",
    "    reg_summary_temp[\"half_life\"] = half_life_list[i]\n",
    "    \n",
    "    reg_summary_list.append(reg_summary_temp[[\"beta_estimate\", \"alpha_estimate\", \"is_rsq\", \"oos_rsq\", \"half_life\"]])\n",
    "\n",
    "rsq_table = pd.concat(reg_summary_list).reset_index()"
   ]
  },
  {
   "cell_type": "markdown",
   "metadata": {},
   "source": [
    "### 3) Extended: Ridge-style"
   ]
  },
  {
   "cell_type": "markdown",
   "metadata": {},
   "source": []
  },
  {
   "cell_type": "markdown",
   "metadata": {},
   "source": [
    "## Synthetic Alpha (Done)"
   ]
  },
  {
   "cell_type": "code",
   "execution_count": 8,
   "metadata": {},
   "outputs": [],
   "source": [
    "import QuantTrading.SyntheticAlpha as SA\n",
    "# SA.get_synthetic_alpha(0.6, px_df, \"AAPL\")"
   ]
  },
  {
   "cell_type": "markdown",
   "metadata": {},
   "source": [
    "## Optimal Trading Strategy (Not started, should be very short)"
   ]
  },
  {
   "cell_type": "code",
   "execution_count": 16,
   "metadata": {},
   "outputs": [],
   "source": [
    "import QuantTrading.SyntheticAlpha as SA\n",
    "# alpha info - change this for sensitivity analysis\n",
    "corr = 0.6\n",
    "alpha_horizon = 6\n",
    "\n",
    "# fix stock/date\n",
    "stock = \"AAPL\"\n",
    "date = \"2019-05-01\""
   ]
  },
  {
   "cell_type": "code",
   "execution_count": 34,
   "metadata": {},
   "outputs": [
    {
     "name": "stdout",
     "output_type": "stream",
     "text": [
      "(0.602489275982515, 3.2902960222108816e-07, 1.1906048425404063e-07)\n"
     ]
    },
    {
     "name": "stderr",
     "output_type": "stream",
     "text": [
      "/Users/kelvinwu/Library/CloudStorage/OneDrive-ImperialCollegeLondon/Year 4 MSc Maths and Finance/Quant Trading and Price Impact/QuantTradingProject/QuantTrading/SyntheticAlpha.py:15: FutureWarning: Support for axis=1 in DataFrame.ewm is deprecated and will be removed in a future version. Use obj.T.ewm(...) instead\n",
      "  return synthetic_alphas.ewm(halflife=200, axis=\"columns\").mean()\n"
     ]
    }
   ],
   "source": [
    "smooth_synthetic_alphas_series = SA.get_synthetic_alpha(corr, px_df, stock, alpha_horizon=alpha_horizon)\\\n",
    "                                .loc[date]\n",
    "\n",
    "px_vol, ADV = monthly_scaling_factor.loc[stock, date]\n",
    "\n",
    "impact_summary = ow_summary # change this with various model summaries; just an example here\n",
    "impact_coef = impact_summary.loc[stock]['beta_estimate']\n",
    "half_life = impact_summary.loc[stock]['half_life']\n",
    "time_unit = 10\n",
    "decay_factor = np.exp(-beta * time_unit)\n",
    "\n",
    "\n",
    "# optimal trade\n",
    "intended_impacts = 1/2 * (smooth_synthetic_alphas_series - smooth_synthetic_alphas_series.diff(1).shift(-1).fillna(0) / beta / time_unit)\n",
    "intended_impacts.iloc[-1] = smooth_synthetic_alphas_series.iloc[-1] # I_T^* = \\alpha_T\n",
    "\n",
    "beta = np.log(2) / half_life\n",
    "optimal_trades = (beta * (smooth_synthetic_alphas_series\n",
    "                - smooth_synthetic_alphas_series.diff(1).diff(1).shift(-1).fillna(0) / (beta ** 2 * time_unit ** 2)\n",
    "                ) / (px_vol / ADV * impact_coef) / 2 * time_unit)\n",
    "\n",
    "optimal_trades.iloc[0] = intended_impacts.iloc[0] / (px_vol / ADV * impact_coef) # I_0^* / lambda\n",
    "optimal_trades.iloc[-1] += (smooth_synthetic_alphas_series.iloc[-1] - intended_impacts.iloc[-2] * decay_factor) / (px_vol / ADV * impact_coef)\n",
    "pct_synthetic_alpha_optimal_trades = optimal_trades / ADV\n",
    "total_trade_sizes = pct_synthetic_alpha_optimal_trades.abs().sum()"
   ]
  },
  {
   "cell_type": "markdown",
   "metadata": {},
   "source": [
    "## Backtesting (Barely Started)"
   ]
  },
  {
   "cell_type": "markdown",
   "metadata": {},
   "source": [
    "In future versions use `cum_impacts` as input"
   ]
  },
  {
   "cell_type": "code",
   "execution_count": 168,
   "metadata": {},
   "outputs": [],
   "source": [
    "# def impact_adjusted_prices(pre_ewm, px_df, scaling_df, half_life, impact_coef_df, model_type):\n",
    "#     cum_impacts = impact_state(pre_ewm, scaling_df, half_life, model_type).T\n",
    "#     cum_returns = px_df.T / px_df.T.iloc[0, :] - 1\n",
    "#     stock_date_df = cum_returns.T.iloc[:, 0].reset_index()\n",
    "#     # stock_date_df[\"month\"] = pd.to_datetime(stock_date_df[\"date\"]).dt.month\n",
    "#     stock_date_df.drop([\"date\"], axis=\"columns\", inplace=True)\n",
    "#     impact_coefficients = pd.merge(stock_date_df, impact_coef_df, on=[\"stock\"], how=\"left\")[\"beta_estimate\"].values\n",
    "#     cum_returns -= cum_impacts * impact_coefficients\n",
    "#     adjusted_px_df = (px_df.T.iloc[0, :] * (cum_returns + 1)).T.reset_index()\n",
    "#     return adjusted_px_df\n"
   ]
  },
  {
   "cell_type": "markdown",
   "metadata": {},
   "source": [
    "## Performance Analysis (Need plots!)"
   ]
  },
  {
   "cell_type": "code",
   "execution_count": null,
   "metadata": {},
   "outputs": [],
   "source": []
  },
  {
   "cell_type": "code",
   "execution_count": null,
   "metadata": {},
   "outputs": [],
   "source": []
  }
 ],
 "metadata": {
  "kernelspec": {
   "display_name": "mf_coding",
   "language": "python",
   "name": "python3"
  },
  "language_info": {
   "codemirror_mode": {
    "name": "ipython",
    "version": 3
   },
   "file_extension": ".py",
   "mimetype": "text/x-python",
   "name": "python",
   "nbconvert_exporter": "python",
   "pygments_lexer": "ipython3",
   "version": "3.12.0"
  }
 },
 "nbformat": 4,
 "nbformat_minor": 2
}
