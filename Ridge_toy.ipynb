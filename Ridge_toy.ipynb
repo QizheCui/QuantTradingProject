{
 "cells": [
  {
   "cell_type": "code",
   "execution_count": 1,
   "metadata": {},
   "outputs": [],
   "source": [
    "import numpy as np\n",
    "import pandas as pd\n",
    "import statsmodels.api as sm\n",
    "import seaborn as sns\n",
    "import pickle\n",
    "\n",
    "import matplotlib.pyplot as plt\n",
    "plt.style.use(\"ggplot\")\n",
    "%config InlineBackend.figure_format='retina'\n",
    "\n",
    "import QuantTrading.ImpactFitting as IF\n",
    "from scipy.optimize import minimize\n",
    "\n",
    "def load_from_pickle(filename):\n",
    "    path = '../pkl_dump/'\n",
    "    with open(path + filename, 'rb') as f:\n",
    "        return pickle.load(f)\n",
    "\n",
    "# Load data\n",
    "traded_volume_df = load_from_pickle('traded_volume_df.pkl')\n",
    "px_df = load_from_pickle('px_df.pkl')\n",
    "daily_stock_info_df = load_from_pickle('daily_stock_info_df.pkl')\n",
    "monthly_scaling_factor = load_from_pickle('monthly_scaling_factor.pkl')\n",
    "stocks = traded_volume_df.reset_index()[\"stock\"].unique()"
   ]
  },
  {
   "cell_type": "code",
   "execution_count": 2,
   "metadata": {},
   "outputs": [
    {
     "name": "stderr",
     "output_type": "stream",
     "text": [
      "/Users/kelvinwu/Library/CloudStorage/OneDrive-ImperialCollegeLondon/Year 4 MSc Maths and Finance/Quant Trading and Price Impact/QuantTradingProject/QuantTrading/ImpactFitting.py:28: FutureWarning: Support for axis=1 in DataFrame.ewm is deprecated and will be removed in a future version. Use obj.T.ewm(...) instead\n",
      "  cum_impact = pre_ewm.ewm(alpha=1-decay_factor, adjust=False, axis=\"columns\").mean()  # Across columns\n"
     ]
    }
   ],
   "source": [
    "half_life = 3600\n",
    "model_type = 'linear'\n",
    "explanation_horizon_periods = 6\n",
    "impact_px_df = IF.get_impact_state(traded_volume_df, monthly_scaling_factor, half_life, model_type)\n",
    "req_stat_df = IF.impact_regression_statistics(impact_px_df, explanation_horizon_periods, px_df)\n",
    "req_stat_df = req_stat_df.loc[req_stat_df[\"y\"] >= 1e-4].copy()\n",
    "req_stat_df[\"date\"] = pd.to_datetime(req_stat_df[\"date\"])\n"
   ]
  },
  {
   "cell_type": "markdown",
   "metadata": {},
   "source": [
    "### Ridge model 1: global coef $\\bar \\lambda$, impact coef of the \"stock index\""
   ]
  },
  {
   "cell_type": "code",
   "execution_count": 3,
   "metadata": {},
   "outputs": [
    {
     "name": "stderr",
     "output_type": "stream",
     "text": [
      "/Users/kelvinwu/Library/CloudStorage/OneDrive-ImperialCollegeLondon/Year 4 MSc Maths and Finance/Quant Trading and Price Impact/QuantTradingProject/QuantTrading/ImpactFitting.py:28: FutureWarning: Support for axis=1 in DataFrame.ewm is deprecated and will be removed in a future version. Use obj.T.ewm(...) instead\n",
      "  cum_impact = pre_ewm.ewm(alpha=1-decay_factor, adjust=False, axis=\"columns\").mean()  # Across columns\n"
     ]
    }
   ],
   "source": [
    "in_sample_month = 5\n",
    "stock = 'A'\n",
    "\n",
    "global_coef = IF.get_index_impact_coef(traded_volume_df, px_df, monthly_scaling_factor, \n",
    "                                       half_life, model_type, in_sample_month)"
   ]
  },
  {
   "cell_type": "code",
   "execution_count": 7,
   "metadata": {},
   "outputs": [],
   "source": [
    "req_stat_df_in_sample_month = req_stat_df.loc[req_stat_df[\"date\"].dt.month == in_sample_month].copy()\\\n",
    "                              .loc[req_stat_df[\"stock\"] == stock]\n",
    "x, y, x_valid, y_valid = IF.train_validation_split(req_stat_df_in_sample_month)"
   ]
  },
  {
   "cell_type": "code",
   "execution_count": 10,
   "metadata": {},
   "outputs": [],
   "source": [
    "def loss_function(params, x, y, global_coef, eta):\n",
    "    coef, intercept = params  # Unpack the parameters\n",
    "    predictions = coef * x + intercept\n",
    "    residuals = y - predictions\n",
    "    penalty = eta * (global_coef - coef) ** 2\n",
    "    return (np.sum(residuals ** 2) + penalty)"
   ]
  },
  {
   "cell_type": "code",
   "execution_count": 25,
   "metadata": {},
   "outputs": [],
   "source": [
    "def optimize_ridge(x, y, eta, initial_param, global_coef):\n",
    "    result = minimize(fun=loss_function, x0=initial_param, \n",
    "                    args=(x, y, global_coef[\"beta_estimate\"].iloc[0], eta), \n",
    "                    method='SLSQP', options={'max_iter': 10000, 'disp': False})\n",
    "    return result.x\n",
    "\n",
    "def validation_ridge(x_valid, y_alid, ridge_results):\n",
    "    coef, intercept = ridge_results\n",
    "    predictions = x_valid * coef + intercept\n",
    "    return np.sum((y_valid - predictions) ** 2)\n",
    "\n",
    "def eta_info(x, y, x_valid, y_valid, eta_list, initial_params, global_coef):\n",
    "    best_eta, best_params = None, None\n",
    "    lowest_loss = np.inf\n",
    "    eta_info = {eta: None for eta in eta_list}\n",
    "\n",
    "    for eta in eta_list:\n",
    "        ridge_results = optimize_ridge(x, y, eta, initial_params, global_coef)\n",
    "        valid_loss = validation_ridge(x_valid, y_valid, ridge_results)\n",
    "        eta_info[eta] = (ridge_results, valid_loss)\n",
    "\n",
    "    return eta_info"
   ]
  },
  {
   "cell_type": "code",
   "execution_count": 24,
   "metadata": {},
   "outputs": [
    {
     "name": "stdout",
     "output_type": "stream",
     "text": [
      "Optimization terminated successfully    (Exit mode 0)\n",
      "            Current function value: 0.0033375411682390306\n",
      "            Iterations: 2\n",
      "            Function evaluations: 11\n",
      "            Gradient evaluations: 2\n",
      "Optimization terminated successfully    (Exit mode 0)\n",
      "            Current function value: 0.004014741227860608\n",
      "            Iterations: 9\n",
      "            Function evaluations: 32\n",
      "            Gradient evaluations: 9\n",
      "Optimization terminated successfully    (Exit mode 0)\n",
      "            Current function value: 0.00401481356190527\n",
      "            Iterations: 7\n",
      "            Function evaluations: 26\n",
      "            Gradient evaluations: 7\n",
      "Optimization terminated successfully    (Exit mode 0)\n",
      "            Current function value: 0.004014819312094298\n",
      "            Iterations: 6\n",
      "            Function evaluations: 23\n",
      "            Gradient evaluations: 6\n",
      "Optimization terminated successfully    (Exit mode 0)\n",
      "            Current function value: 0.004014819935936592\n",
      "            Iterations: 4\n",
      "            Function evaluations: 16\n",
      "            Gradient evaluations: 4\n",
      "Optimization terminated successfully    (Exit mode 0)\n",
      "            Current function value: 0.0040148351398034444\n",
      "            Iterations: 4\n",
      "            Function evaluations: 17\n",
      "            Gradient evaluations: 4\n",
      "Optimization terminated successfully    (Exit mode 0)\n",
      "            Current function value: 0.00401481993531431\n",
      "            Iterations: 3\n",
      "            Function evaluations: 16\n",
      "            Gradient evaluations: 3\n",
      "Optimization terminated successfully    (Exit mode 0)\n",
      "            Current function value: 0.004014819931413053\n",
      "            Iterations: 3\n",
      "            Function evaluations: 17\n",
      "            Gradient evaluations: 3\n"
     ]
    },
    {
     "name": "stderr",
     "output_type": "stream",
     "text": [
      "/var/folders/cb/0qjpmgyd53q970hhrqhbcvhr0000gn/T/ipykernel_84478/2247863705.py:2: OptimizeWarning: Unknown solver options: max_iter\n",
      "  result = minimize(fun=loss_function, x0=initial_param,\n"
     ]
    },
    {
     "data": {
      "text/plain": [
       "{0: (array([8.50000000e+01, 5.57587002e-04]), 0.0008658035092350782),\n",
       " 0.0001: (array([3.27726403e+02, 4.84688392e-04]), 0.0010332223467620296),\n",
       " 0.001: (array([3.27753030e+02, 4.84680427e-04]), 0.0010332582595641397),\n",
       " 0.01: (array([3.27754200e+02, 4.84680075e-04]), 0.001033259838448934),\n",
       " 0.1: (array([3.27754611e+02, 4.84679879e-04]), 0.0010332603953541247),\n",
       " 1: (array([3.27754731e+02, 4.84680650e-04]), 0.0010332605218454226),\n",
       " 10: (array([3.27754609e+02, 4.84681295e-04]), 0.0010332603314520974),\n",
       " 100: (array([3.27754610e+02, 4.84684708e-04]), 0.0010332601840083429)}"
      ]
     },
     "execution_count": 24,
     "metadata": {},
     "output_type": "execute_result"
    }
   ],
   "source": [
    "eta_list = [0, 0.0001, 0.001, 0.01, 0.1, 1, 10, 100]\n",
    "eta_info = eta_info(x, y, x_valid, y_valid, eta_list, np.array([85, 0]), global_coef)"
   ]
  },
  {
   "cell_type": "code",
   "execution_count": null,
   "metadata": {},
   "outputs": [],
   "source": []
  }
 ],
 "metadata": {
  "kernelspec": {
   "display_name": "mf_coding",
   "language": "python",
   "name": "python3"
  },
  "language_info": {
   "codemirror_mode": {
    "name": "ipython",
    "version": 3
   },
   "file_extension": ".py",
   "mimetype": "text/x-python",
   "name": "python",
   "nbconvert_exporter": "python",
   "pygments_lexer": "ipython3",
   "version": "3.12.0"
  }
 },
 "nbformat": 4,
 "nbformat_minor": 2
}
