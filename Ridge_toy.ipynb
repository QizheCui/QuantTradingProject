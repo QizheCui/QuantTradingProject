{
 "cells": [
  {
   "cell_type": "code",
   "execution_count": 46,
   "metadata": {},
   "outputs": [],
   "source": [
    "import numpy as np\n",
    "import pandas as pd\n",
    "import statsmodels.api as sm\n",
    "import seaborn as sns\n",
    "import pickle\n",
    "\n",
    "import matplotlib.pyplot as plt\n",
    "plt.style.use(\"ggplot\")\n",
    "%config InlineBackend.figure_format='retina'\n",
    "\n",
    "import QuantTrading.ImpactFitting as IF\n",
    "\n",
    "def load_from_pickle(filename):\n",
    "    path = '../pkl_dump/'\n",
    "    with open(path + filename, 'rb') as f:\n",
    "        return pickle.load(f)\n",
    "\n",
    "# Load data\n",
    "traded_volume_df = load_from_pickle('traded_volume_df.pkl')\n",
    "px_df = load_from_pickle('px_df.pkl')\n",
    "daily_stock_info_df = load_from_pickle('daily_stock_info_df.pkl')\n",
    "monthly_scaling_factor = load_from_pickle('monthly_scaling_factor.pkl')\n",
    "stocks = traded_volume_df.reset_index()[\"stock\"].unique()"
   ]
  },
  {
   "cell_type": "code",
   "execution_count": 47,
   "metadata": {},
   "outputs": [],
   "source": [
    "traded_volume_df = traded_volume_df.groupby('date').mean()\n",
    "px_df = px_df.groupby('date').mean()\n",
    "monthly_scaling_factor = monthly_scaling_factor.groupby('date').mean()"
   ]
  },
  {
   "cell_type": "code",
   "execution_count": 48,
   "metadata": {},
   "outputs": [
    {
     "name": "stderr",
     "output_type": "stream",
     "text": [
      "/Users/kelvinwu/Library/CloudStorage/OneDrive-ImperialCollegeLondon/Year 4 MSc Maths and Finance/Quant Trading and Price Impact/QuantTradingProject/QuantTrading/ImpactFitting.py:28: FutureWarning: Support for axis=1 in DataFrame.ewm is deprecated and will be removed in a future version. Use obj.T.ewm(...) instead\n",
      "  cum_impact = pre_ewm.ewm(alpha=1-decay_factor, adjust=False, axis=\"columns\").mean()  # Across columns\n"
     ]
    },
    {
     "ename": "TypeError",
     "evalue": "get_regression_results() got an unexpected keyword argument 'all'",
     "output_type": "error",
     "traceback": [
      "\u001b[0;31m---------------------------------------------------------------------------\u001b[0m",
      "\u001b[0;31mTypeError\u001b[0m                                 Traceback (most recent call last)",
      "Cell \u001b[0;32mIn[48], line 8\u001b[0m\n\u001b[1;32m      3\u001b[0m in_sample_month \u001b[38;5;241m=\u001b[39m \u001b[38;5;241m3\u001b[39m\n\u001b[1;32m      6\u001b[0m impact_px_df \u001b[38;5;241m=\u001b[39m IF\u001b[38;5;241m.\u001b[39mget_impact_state(traded_volume_df, monthly_scaling_factor, \n\u001b[1;32m      7\u001b[0m                                 half_life, model_type)\n\u001b[0;32m----> 8\u001b[0m reg_summary_temp \u001b[38;5;241m=\u001b[39m \u001b[43mIF\u001b[49m\u001b[38;5;241;43m.\u001b[39;49m\u001b[43mget_regression_results\u001b[49m\u001b[43m(\u001b[49m\u001b[43mimpact_px_df\u001b[49m\u001b[43m,\u001b[49m\u001b[43m \u001b[49m\u001b[43mpx_df\u001b[49m\u001b[43m,\u001b[49m\u001b[43m \u001b[49m\n\u001b[1;32m      9\u001b[0m \u001b[43m                                        \u001b[49m\u001b[43min_sample_month\u001b[49m\u001b[43m,\u001b[49m\u001b[43m \u001b[49m\u001b[43mexplanation_horizon_periods\u001b[49m\u001b[38;5;241;43m=\u001b[39;49m\u001b[38;5;241;43m6\u001b[39;49m\u001b[43m,\u001b[49m\u001b[43m \u001b[49m\u001b[38;5;28;43mall\u001b[39;49m\u001b[38;5;241;43m=\u001b[39;49m\u001b[38;5;28;43;01mTrue\u001b[39;49;00m\u001b[43m)\u001b[49m\n",
      "\u001b[0;31mTypeError\u001b[0m: get_regression_results() got an unexpected keyword argument 'all'"
     ]
    }
   ],
   "source": [
    "model_type = \"linear\"\n",
    "half_life = 3600\n",
    "in_sample_month = 3\n",
    "\n",
    "\n",
    "impact_px_df = IF.get_impact_state(traded_volume_df, monthly_scaling_factor, \n",
    "                                half_life, model_type)\n",
    "reg_summary_temp = IF.get_regression_results(impact_px_df, px_df, \n",
    "                                        in_sample_month, explanation_horizon_periods=6, all=True)"
   ]
  },
  {
   "cell_type": "code",
   "execution_count": null,
   "metadata": {},
   "outputs": [],
   "source": []
  }
 ],
 "metadata": {
  "kernelspec": {
   "display_name": "mf_coding",
   "language": "python",
   "name": "python3"
  },
  "language_info": {
   "codemirror_mode": {
    "name": "ipython",
    "version": 3
   },
   "file_extension": ".py",
   "mimetype": "text/x-python",
   "name": "python",
   "nbconvert_exporter": "python",
   "pygments_lexer": "ipython3",
   "version": "3.12.0"
  }
 },
 "nbformat": 4,
 "nbformat_minor": 2
}
