{
 "cells": [
  {
   "cell_type": "code",
   "execution_count": 1,
   "metadata": {},
   "outputs": [],
   "source": [
    "import numpy as np\n",
    "import pandas as pd\n",
    "import statsmodels.api as sm\n",
    "import seaborn as sns\n",
    "import pickle\n",
    "\n",
    "import matplotlib.pyplot as plt\n",
    "plt.style.use(\"ggplot\")\n",
    "%config InlineBackend.figure_format='retina'\n",
    "\n",
    "import QuantTrading.ImpactFitting as IF\n",
    "\n",
    "def load_from_pickle(filename):\n",
    "    path = '../pkl_dump/'\n",
    "    with open(path + filename, 'rb') as f:\n",
    "        return pickle.load(f)\n",
    "\n",
    "# Load data\n",
    "traded_volume_df = load_from_pickle('traded_volume_df.pkl')\n",
    "px_df = load_from_pickle('px_df.pkl')\n",
    "daily_stock_info_df = load_from_pickle('daily_stock_info_df.pkl')\n",
    "monthly_scaling_factor = load_from_pickle('monthly_scaling_factor.pkl')\n",
    "stocks = traded_volume_df.reset_index()[\"stock\"].unique()"
   ]
  },
  {
   "cell_type": "code",
   "execution_count": 2,
   "metadata": {},
   "outputs": [],
   "source": [
    "traded_volume_df = traded_volume_df.groupby('date').mean()\n",
    "px_df = px_df.groupby('date').mean()\n",
    "monthly_scaling_factor = monthly_scaling_factor.groupby('date').mean()"
   ]
  },
  {
   "cell_type": "code",
   "execution_count": 3,
   "metadata": {},
   "outputs": [],
   "source": [
    "model_type = \"linear\"\n",
    "half_life = 3600\n",
    "in_sample_month = 3\n",
    "\n",
    "\n",
    "impact_px_df = IF.get_impact_state(traded_volume_df, monthly_scaling_factor, \n",
    "                                half_life, model_type)\n",
    "reg_summary_temp = IF.get_regression_results(impact_px_df, px_df, \n",
    "                                        in_sample_month, explanation_horizon_periods=6, all=True)"
   ]
  },
  {
   "cell_type": "code",
   "execution_count": 4,
   "metadata": {},
   "outputs": [
    {
     "data": {
      "text/html": [
       "<div>\n",
       "<style scoped>\n",
       "    .dataframe tbody tr th:only-of-type {\n",
       "        vertical-align: middle;\n",
       "    }\n",
       "\n",
       "    .dataframe tbody tr th {\n",
       "        vertical-align: top;\n",
       "    }\n",
       "\n",
       "    .dataframe thead th {\n",
       "        text-align: right;\n",
       "    }\n",
       "</style>\n",
       "<table border=\"1\" class=\"dataframe\">\n",
       "  <thead>\n",
       "    <tr style=\"text-align: right;\">\n",
       "      <th></th>\n",
       "      <th>is_xy</th>\n",
       "      <th>is_xx</th>\n",
       "      <th>is_yy</th>\n",
       "      <th>is_x</th>\n",
       "      <th>is_y</th>\n",
       "      <th>is_count</th>\n",
       "      <th>oos_xy</th>\n",
       "      <th>oos_xx</th>\n",
       "      <th>oos_yy</th>\n",
       "      <th>oos_x</th>\n",
       "      <th>oos_y</th>\n",
       "      <th>oos_count</th>\n",
       "      <th>beta_estimate</th>\n",
       "      <th>alpha_estimate</th>\n",
       "      <th>is_sse</th>\n",
       "      <th>is_mse</th>\n",
       "      <th>is_rsq</th>\n",
       "      <th>oos_sse</th>\n",
       "      <th>oos_mse</th>\n",
       "      <th>oos_rsq</th>\n",
       "    </tr>\n",
       "  </thead>\n",
       "  <tbody>\n",
       "    <tr>\n",
       "      <th>0</th>\n",
       "      <td>0.000001</td>\n",
       "      <td>2.408250e-09</td>\n",
       "      <td>0.002501</td>\n",
       "      <td>0.002948</td>\n",
       "      <td>5.220906</td>\n",
       "      <td>15997.0</td>\n",
       "      <td>5.748663e-07</td>\n",
       "      <td>1.115777e-09</td>\n",
       "      <td>0.000993</td>\n",
       "      <td>0.001864</td>\n",
       "      <td>3.135527</td>\n",
       "      <td>13113.0</td>\n",
       "      <td>221.30069</td>\n",
       "      <td>0.000286</td>\n",
       "      <td>0.000797</td>\n",
       "      <td>0.000706</td>\n",
       "      <td>0.114548</td>\n",
       "      <td>0.000243</td>\n",
       "      <td>0.000307</td>\n",
       "      <td>-0.263997</td>\n",
       "    </tr>\n",
       "  </tbody>\n",
       "</table>\n",
       "</div>"
      ],
      "text/plain": [
       "      is_xy         is_xx     is_yy      is_x      is_y  is_count  \\\n",
       "0  0.000001  2.408250e-09  0.002501  0.002948  5.220906   15997.0   \n",
       "\n",
       "         oos_xy        oos_xx    oos_yy     oos_x     oos_y  oos_count  \\\n",
       "0  5.748663e-07  1.115777e-09  0.000993  0.001864  3.135527    13113.0   \n",
       "\n",
       "   beta_estimate  alpha_estimate    is_sse    is_mse    is_rsq   oos_sse  \\\n",
       "0      221.30069        0.000286  0.000797  0.000706  0.114548  0.000243   \n",
       "\n",
       "    oos_mse   oos_rsq  \n",
       "0  0.000307 -0.263997  "
      ]
     },
     "execution_count": 4,
     "metadata": {},
     "output_type": "execute_result"
    }
   ],
   "source": [
    "reg_summary_temp"
   ]
  },
  {
   "cell_type": "code",
   "execution_count": null,
   "metadata": {},
   "outputs": [],
   "source": []
  }
 ],
 "metadata": {
  "kernelspec": {
   "display_name": "mf_coding",
   "language": "python",
   "name": "python3"
  },
  "language_info": {
   "codemirror_mode": {
    "name": "ipython",
    "version": 3
   },
   "file_extension": ".py",
   "mimetype": "text/x-python",
   "name": "python",
   "nbconvert_exporter": "python",
   "pygments_lexer": "ipython3",
   "version": "3.11.4"
  }
 },
 "nbformat": 4,
 "nbformat_minor": 2
}
