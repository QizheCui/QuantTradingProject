{
 "cells": [
  {
   "cell_type": "code",
   "execution_count": 1,
   "metadata": {},
   "outputs": [],
   "source": [
    "import numpy as np\n",
    "import pandas as pd\n",
    "import statsmodels.api as sm\n",
    "import seaborn as sns\n",
    "import pickle\n",
    "\n",
    "import matplotlib.pyplot as plt\n",
    "plt.style.use(\"ggplot\")\n",
    "%config InlineBackend.figure_format='retina'\n",
    "\n",
    "import QuantTrading.ImpactFitting as IF\n",
    "from scipy.optimize import minimize\n",
    "\n",
    "def load_from_pickle(filename):\n",
    "    path = '../pkl_dump/'\n",
    "    with open(path + filename, 'rb') as f:\n",
    "        return pickle.load(f)\n",
    "\n",
    "# Load data\n",
    "traded_volume_df = load_from_pickle('traded_volume_df.pkl')\n",
    "px_df = load_from_pickle('px_df.pkl')\n",
    "daily_stock_info_df = load_from_pickle('daily_stock_info_df.pkl')\n",
    "monthly_scaling_factor = load_from_pickle('monthly_scaling_factor.pkl')\n",
    "stocks = traded_volume_df.reset_index()[\"stock\"].unique()"
   ]
  },
  {
   "cell_type": "code",
   "execution_count": 2,
   "metadata": {},
   "outputs": [
    {
     "name": "stderr",
     "output_type": "stream",
     "text": [
      "/Users/kelvinwu/Library/CloudStorage/OneDrive-ImperialCollegeLondon/Year 4 MSc Maths and Finance/Quant Trading and Price Impact/QuantTradingProject/QuantTrading/ImpactFitting.py:28: FutureWarning: Support for axis=1 in DataFrame.ewm is deprecated and will be removed in a future version. Use obj.T.ewm(...) instead\n",
      "  cum_impact = pre_ewm.ewm(alpha=1-decay_factor, adjust=False, axis=\"columns\").mean()  # Across columns\n"
     ]
    }
   ],
   "source": [
    "half_life = 3600\n",
    "model_type = 'linear'\n",
    "explanation_horizon_periods = 6\n",
    "impact_px_df = IF.get_impact_state(traded_volume_df, monthly_scaling_factor, half_life, model_type)\n",
    "req_stat_df = IF.impact_regression_statistics(impact_px_df, explanation_horizon_periods, px_df)\n",
    "req_stat_df = req_stat_df.loc[req_stat_df[\"y\"] >= 1e-4].copy()\n",
    "req_stat_df[\"date\"] = pd.to_datetime(req_stat_df[\"date\"])\n"
   ]
  },
  {
   "cell_type": "markdown",
   "metadata": {},
   "source": [
    "### Ridge model 1: global coef $\\bar \\lambda$, impact coef of the \"stock index\""
   ]
  },
  {
   "cell_type": "code",
   "execution_count": 6,
   "metadata": {},
   "outputs": [
    {
     "name": "stderr",
     "output_type": "stream",
     "text": [
      "/Users/kelvinwu/Library/CloudStorage/OneDrive-ImperialCollegeLondon/Year 4 MSc Maths and Finance/Quant Trading and Price Impact/QuantTradingProject/QuantTrading/ImpactFitting.py:28: FutureWarning: Support for axis=1 in DataFrame.ewm is deprecated and will be removed in a future version. Use obj.T.ewm(...) instead\n",
      "  cum_impact = pre_ewm.ewm(alpha=1-decay_factor, adjust=False, axis=\"columns\").mean()  # Across columns\n"
     ]
    }
   ],
   "source": [
    "in_sample_month = 5\n",
    "stock = 'A'\n",
    "\n",
    "global_coef = IF.get_index_impact_coef(traded_volume_df, px_df, monthly_scaling_factor, \n",
    "                                       half_life, model_type, in_sample_month)"
   ]
  },
  {
   "cell_type": "code",
   "execution_count": 29,
   "metadata": {},
   "outputs": [
    {
     "ename": "AttributeError",
     "evalue": "module 'QuantTrading.ImpactFitting' has no attribute 'train_validation_split'",
     "output_type": "error",
     "traceback": [
      "\u001b[0;31m---------------------------------------------------------------------------\u001b[0m",
      "\u001b[0;31mAttributeError\u001b[0m                            Traceback (most recent call last)",
      "Cell \u001b[0;32mIn[29], line 3\u001b[0m\n\u001b[1;32m      1\u001b[0m req_stat_df_in_sample_month \u001b[38;5;241m=\u001b[39m req_stat_df\u001b[38;5;241m.\u001b[39mloc[req_stat_df[\u001b[38;5;124m\"\u001b[39m\u001b[38;5;124mdate\u001b[39m\u001b[38;5;124m\"\u001b[39m]\u001b[38;5;241m.\u001b[39mdt\u001b[38;5;241m.\u001b[39mmonth \u001b[38;5;241m==\u001b[39m in_sample_month]\u001b[38;5;241m.\u001b[39mcopy()\\\n\u001b[1;32m      2\u001b[0m                               \u001b[38;5;241m.\u001b[39mloc[req_stat_df[\u001b[38;5;124m\"\u001b[39m\u001b[38;5;124mstock\u001b[39m\u001b[38;5;124m\"\u001b[39m] \u001b[38;5;241m==\u001b[39m stock]\n\u001b[0;32m----> 3\u001b[0m x, y, x_valid, y_valid \u001b[38;5;241m=\u001b[39m \u001b[43mIF\u001b[49m\u001b[38;5;241;43m.\u001b[39;49m\u001b[43mtrain_validation_split\u001b[49m(req_stat_df_in_sample_month)\n",
      "\u001b[0;31mAttributeError\u001b[0m: module 'QuantTrading.ImpactFitting' has no attribute 'train_validation_split'"
     ]
    }
   ],
   "source": [
    "req_stat_df_in_sample_month = req_stat_df.loc[req_stat_df[\"date\"].dt.month == in_sample_month].copy()\\\n",
    "                              .loc[req_stat_df[\"stock\"] == stock]\n",
    "x, y, x_valid, y_valid = IF.train_validation_split(req_stat_df_in_sample_month)"
   ]
  },
  {
   "cell_type": "code",
   "execution_count": 169,
   "metadata": {},
   "outputs": [],
   "source": [
    "def loss_function(params, x, y, global_coef, eta):\n",
    "    coef, intercept = params  # Unpack the parameters\n",
    "    predictions = coef * x + intercept\n",
    "    residuals = y - predictions\n",
    "    penalty = eta * (global_coef - coef) ** 2\n",
    "    return (np.sum(residuals ** 2) + penalty)"
   ]
  },
  {
   "cell_type": "code",
   "execution_count": 18,
   "metadata": {},
   "outputs": [],
   "source": [
    "def optimize_ridge(x, y, eta, initial_param, global_coef):\n",
    "    result = minimize(fun=loss_function, x0=initial_param, \n",
    "                    args=(x, y, global_coef[\"beta_estimate\"].iloc[0], eta), \n",
    "                    method='SLSQP', options={'max_iter': 10000, 'disp': True})\n",
    "    return result.x\n",
    "\n",
    "def validation_ridge(x_valid, y_alid, ridge_results):\n",
    "    coef, intercept = ridge_results\n",
    "    predictions = x.valid * coef + intercept\n",
    "    return np.sum((y_valid - predictions) ** 2)\n",
    "\n",
    "def eta_info(x, y, x_valid, y_valid, eta_list, initial_params):\n",
    "    best_eta, best_params = None\n",
    "    lowest_loss = np.inf\n",
    "    eta_info = {eta: None for eta in eta_list}\n",
    "\n",
    "    for eta in eta_list:\n",
    "        ridge_results = optimize_ridge(x, y, eta, initial_params)\n",
    "        valid_loss = validation_ridge(x_valid, y_valid, ridge_results)\n",
    "        eta_info[eta] = (ridge_results, valid_loss)\n",
    "\n",
    "    return eta_info"
   ]
  },
  {
   "cell_type": "code",
   "execution_count": 167,
   "metadata": {},
   "outputs": [
    {
     "name": "stdout",
     "output_type": "stream",
     "text": [
      "Optimization terminated successfully    (Exit mode 0)\n",
      "            Current function value: 0.11419783121034209\n",
      "            Iterations: 1\n",
      "            Function evaluations: 10\n",
      "            Gradient evaluations: 1\n"
     ]
    },
    {
     "name": "stderr",
     "output_type": "stream",
     "text": [
      "/var/folders/cb/0qjpmgyd53q970hhrqhbcvhr0000gn/T/ipykernel_73840/275889205.py:13: OptimizeWarning: Unknown solver options: max_iter\n",
      "  result = minimize(fun=loss_function, x0=np.array([85, 0]),\n"
     ]
    },
    {
     "data": {
      "text/plain": [
       "array([8.50000000e+01, 7.48463611e-07])"
      ]
     },
     "execution_count": 167,
     "metadata": {},
     "output_type": "execute_result"
    }
   ],
   "source": [
    "eta_list = [0.001, 0.01, 0.1, 1, 10, 100]"
   ]
  },
  {
   "cell_type": "code",
   "execution_count": null,
   "metadata": {},
   "outputs": [],
   "source": []
  }
 ],
 "metadata": {
  "kernelspec": {
   "display_name": "mf_coding",
   "language": "python",
   "name": "python3"
  },
  "language_info": {
   "codemirror_mode": {
    "name": "ipython",
    "version": 3
   },
   "file_extension": ".py",
   "mimetype": "text/x-python",
   "name": "python",
   "nbconvert_exporter": "python",
   "pygments_lexer": "ipython3",
   "version": "3.12.0"
  }
 },
 "nbformat": 4,
 "nbformat_minor": 2
}
